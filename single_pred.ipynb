{
 "cells": [
  {
   "cell_type": "code",
   "execution_count": 1,
   "id": "4cd6f38f",
   "metadata": {},
   "outputs": [],
   "source": [
    "from model.model_pip import load_pipeline\n",
    "import pandas as pd"
   ]
  },
  {
   "cell_type": "code",
   "execution_count": null,
   "id": "4c350424",
   "metadata": {},
   "outputs": [
    {
     "name": "stdout",
     "output_type": "stream",
     "text": [
      "Pipeline et modèle entrainés correctement chargés\n",
      "🏠 Prix estimé: 723,378 €\n"
     ]
    }
   ],
   "source": [
    "loaded_pip = load_pipeline()\n",
    "\n",
    "new_house_dict = {\n",
    "'Unnamed: 0' : 0,\n",
    "'id' : 0,\n",
    "'url' : 'abc',\n",
    "'type' : 'HOUSE',\n",
    "'subtype' : 'HOUSE',\n",
    "'bedroomCount' :2,\n",
    "'bathroomCount' : 1,\n",
    "'province' : 'Liège',\n",
    "'locality' : 'Beaufays',\n",
    "'postCode' : 4052,\n",
    "'habitableSurface' : 2500,\n",
    "'roomCount' : 5,\n",
    "'monthlyCost' : 0,\n",
    "'hasAttic' : True,\n",
    "'hasBasement' : True,\n",
    "'hasDressingRoom' : True,\n",
    "'diningRoomSurface' : 38,\n",
    "'hasDiningRoom' : True,\n",
    "'buildingCondition' : 'GOOD',\n",
    "'buildingConstructionYear' : 2008,\n",
    "'facedeCount' : 4,\n",
    "'floorCount' : 3,\n",
    "'streetFacadeWidth' : 6,\n",
    "'hasLift' : 'True',\n",
    "'floodZoneType' : 'POSSIBLE_FLOOD_ZONE',\n",
    "'heatingType' : 'GAS',\n",
    "'hasHeatPump' : 'True',\n",
    "'hasPhotovoltaicPanels' : True,\n",
    "'hasThermicPanels' : 'True',\n",
    "'kitchenSurface' : 5,\n",
    "'kitchenType' : 'USA_INSTALLED',\n",
    "'landSurface' : 0,\n",
    "'hasLivingRoom' :True,\n",
    "'livingRoomSurface' : 34,\n",
    "'hasBalcony' : 'True', \n",
    "'hasGarden' : True,\n",
    "'gardenSurface' : 1500,\n",
    "'gardenOrientation' : '',\n",
    "'parkingCountIndoor' : 3,\n",
    "'parkingCountOutdoor' : 4,\n",
    "'hasAirConditioning' : 'True',\n",
    "'hasArmoredDoor' : 'True',\n",
    "'hasVisiophone' : 'True', \n",
    "'hasOffice' : 'True',\n",
    "'toiletCount' : 2,\n",
    "'hasSwimmingPool' : True,\n",
    "'hasFireplace' : 'True',\n",
    "'hasTerrace' : True,\n",
    "'terraceSurface' : 0,\n",
    "'terraceOrientation' : '',\n",
    "'accessibleDisabledPeople' : True,\n",
    "'epcScore' : \"A++\"\n",
    "}\n",
    "\n",
    "new_house_df = pd.DataFrame([new_house_dict])\n",
    "price_prediction = loaded_pip.predict(new_house_df)\n",
    "print(f\"🏠 Prix estimé: {price_prediction[0]:,.0f} €\")"
   ]
  }
 ],
 "metadata": {
  "kernelspec": {
   "display_name": "immoenv",
   "language": "python",
   "name": "python3"
  },
  "language_info": {
   "codemirror_mode": {
    "name": "ipython",
    "version": 3
   },
   "file_extension": ".py",
   "mimetype": "text/x-python",
   "name": "python",
   "nbconvert_exporter": "python",
   "pygments_lexer": "ipython3",
   "version": "3.11.13"
  }
 },
 "nbformat": 4,
 "nbformat_minor": 5
}
